{
 "cells": [
  {
   "cell_type": "code",
   "execution_count": 12,
   "id": "500fdd53",
   "metadata": {},
   "outputs": [
    {
     "name": "stdout",
     "output_type": "stream",
     "text": [
      "/\n",
      " ├── data\n",
      " │   ├── actions (4734694, 19) float32\n",
      " │   ├── clock (4734694, 5, 2) float32\n",
      " │   ├── commands (4734694, 5, 11) float32\n",
      " │   ├── critic_obs (4734694, 321) float32\n",
      " │   ├── dones (4734694,) bool\n",
      " │   ├── history_action (4734694, 5, 19) float32\n",
      " │   ├── proprio (4734694, 5, 63) float32\n",
      " │   ├── proprio_new (4734694, 5, 44) float32\n",
      " │   ├── rewards (4734694,) float32\n",
      " │   └── root_states (4734694, 13) float32\n",
      " └── meta\n",
      "     ├── episode_command_A (80000, 11) float32\n",
      "     ├── episode_command_B (80000, 11) float32\n",
      "     ├── episode_ends (80000,) int64\n",
      "     └── episode_reward (80000,) float32\n",
      "[ 0.14983802  0.1871563  -0.0050003  -0.28435513 -0.07423982 -0.96335375\n",
      " -0.0360495   0.08050209  0.22918212  0.19256455 -0.18192789 -0.02417312\n",
      "  0.02611465  0.17455272  0.41564044 -0.35247105  0.0064153   0.18561988\n",
      " -0.08942001 -0.02381871  0.06020774  0.2203705  -0.05461896 -0.0222795\n",
      "  0.06882048 -0.04057496  0.00849966 -0.00714054 -0.03147253  0.03474738\n",
      "  0.05838671 -0.01942744 -0.03145652  0.05281585 -0.00123662  0.03015568\n",
      "  0.07259106 -0.01906989  0.0295869   0.03227557  0.04818593 -0.09170046\n",
      " -0.0801108   0.07506928  0.          0.          0.          0.\n",
      "  0.          0.          0.          0.          0.          0.\n",
      "  0.          0.          0.          0.          0.          0.\n",
      "  0.          0.          0.        ]\n",
      "[ 0.14983802  0.1871563  -0.0050003  -0.28435513 -0.07423982 -0.96335375\n",
      " -0.0360495   0.08050209  0.22918212  0.19256455 -0.18192789 -0.02417312\n",
      "  0.02611465  0.17455272  0.41564044 -0.35247105  0.0064153   0.18561988\n",
      " -0.08942001 -0.02381871  0.06020774  0.2203705  -0.05461896 -0.0222795\n",
      "  0.06882048 -0.04057496  0.00849966 -0.00714054 -0.03147253  0.03474738\n",
      "  0.05838671 -0.01942744 -0.03145652  0.05281585 -0.00123662  0.03015568\n",
      "  0.07259106 -0.01906989  0.0295869   0.03227557  0.04818593 -0.09170046\n",
      " -0.0801108   0.07506928]\n",
      "[0. 0. 0. 0. 0. 0. 0. 0. 0. 0. 0. 0. 0. 0. 0. 0. 0. 0. 0.]\n"
     ]
    }
   ],
   "source": [
    "from legged_gym.dataset.replay_buffer import ReplayBuffer\n",
    "\n",
    "rb = ReplayBuffer.create_from_path(\"/root/workspace/HugWBC/collected_trajectories_v2/switch.zarr\")\n",
    "print(rb)\n",
    "# print(rb.meta.episode_reward[:].max())\n",
    "# print(rb.meta.episode_reward[:].min())\n",
    "# print(rb.meta.episode_reward[:].mean())\n",
    "# print(rb.meta.episode_reward[:].std())\n",
    "print(rb.data.proprio[0, 0][:])\n",
    "print(rb.data.proprio_new[0, 0][:])\n",
    "print(rb.data.history_action[0, 0][:])\n"
   ]
  },
  {
   "cell_type": "code",
   "execution_count": 7,
   "id": "c0a02adf",
   "metadata": {},
   "outputs": [
    {
     "name": "stdout",
     "output_type": "stream",
     "text": [
      "/\n",
      " ├── data\n",
      " │   ├── actions (1181843, 19) float32\n",
      " │   ├── clock (1181843, 5, 2) float32\n",
      " │   ├── commands (1181843, 5, 11) float32\n",
      " │   ├── critic_obs (1181843, 321) float32\n",
      " │   ├── dones (1181843,) bool\n",
      " │   ├── obs (1181843, 5, 76) float32\n",
      " │   ├── proprio (1181843, 5, 63) float32\n",
      " │   ├── rewards (1181843,) float32\n",
      " │   └── root_states (1181843, 13) float32\n",
      " └── meta\n",
      "     ├── episode_command (20000, 11) float32\n",
      "     ├── episode_ends (20000,) int64\n",
      "     └── episode_reward (20000,) float32\n",
      "6.4689803\n",
      "-11.492153\n",
      "-4.6129713\n",
      "1.425804\n"
     ]
    }
   ],
   "source": [
    "from legged_gym.dataset.replay_buffer import ReplayBuffer\n",
    "\n",
    "rb = ReplayBuffer.create_from_path(\"/root/workspace/HugWBC/collected_trajectories_v2/constant.zarr\")\n",
    "print(rb)\n",
    "print(rb.meta.episode_reward[:].max())\n",
    "print(rb.meta.episode_reward[:].min())\n",
    "print(rb.meta.episode_reward[:].mean())\n",
    "print(rb.meta.episode_reward[:].std())\n"
   ]
  }
 ],
 "metadata": {
  "kernelspec": {
   "display_name": "hugwbc",
   "language": "python",
   "name": "python3"
  },
  "language_info": {
   "codemirror_mode": {
    "name": "ipython",
    "version": 3
   },
   "file_extension": ".py",
   "mimetype": "text/x-python",
   "name": "python",
   "nbconvert_exporter": "python",
   "pygments_lexer": "ipython3",
   "version": "3.8.20"
  }
 },
 "nbformat": 4,
 "nbformat_minor": 5
}
